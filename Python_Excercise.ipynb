{
 "cells": [
  {
   "cell_type": "markdown",
   "id": "85ca08e6",
   "metadata": {},
   "source": [
    "### 1. Length of longest word in list\n",
    "#### Complete the function that takes one argument, a list of words, and returns the length of the longest word in the list."
   ]
  },
  {
   "cell_type": "code",
   "execution_count": 2,
   "id": "d0c1c9d0",
   "metadata": {},
   "outputs": [
    {
     "name": "stdout",
     "output_type": "stream",
     "text": [
      "Length of the longest word in the list:  7\n"
     ]
    }
   ],
   "source": [
    "def longest_word_length(words):\n",
    "    \n",
    "    #This function takes a list of words as input and returns the length of the longest word in the list.\n",
    "    \n",
    "    max_length = 0\n",
    "    for word in words:\n",
    "        if len(word) > max_length:\n",
    "            max_length = len(word)\n",
    "    return max_length\n",
    "\n",
    "word_list = [\"simple\", \"is\", \"better\", \"than\", \"complex\"]\n",
    "max_length = longest_word_length(word_list)\n",
    "print(\"Length of the longest word in the list: \", max_length)"
   ]
  },
  {
   "cell_type": "markdown",
   "id": "5eb94760",
   "metadata": {},
   "source": [
    "### 2. Vectors\n",
    "#### Create a Vector class with x and y attributes that represent component magnitudes in the x and y directions.\n",
    "#### Your vectors should handle vector addition with an .add() method that takes a second vector as an argument and returns a new vector equal to the sum of the vector you call .add() on, and the vector you pass in."
   ]
  },
  {
   "cell_type": "code",
   "execution_count": 4,
   "id": "e6008a03",
   "metadata": {},
   "outputs": [
    {
     "name": "stdout",
     "output_type": "stream",
     "text": [
      "v3 'x' = 6\n",
      "v3 'y' = 8\n"
     ]
    }
   ],
   "source": [
    "class Vector:\n",
    "    def __init__(self, x, y):\n",
    "        self.x = x\n",
    "        self.y = y\n",
    "    \n",
    "    def add(self, other_vector):\n",
    "    #Returns a new Vector that is the sum of this vector and another vector\n",
    "        return Vector(self.x + other_vector.x, self.y + other_vector.y)\n",
    "\n",
    "v1 = Vector(2, 3)\n",
    "v2 = Vector(4, 5)\n",
    "v3 = v1.add(v2)\n",
    "print(\"v3 'x' =\",v3.x)\n",
    "print(\"v3 'y' =\", v3.y)     "
   ]
  },
  {
   "cell_type": "markdown",
   "id": "a8a5bf6f",
   "metadata": {},
   "source": [
    "### 3. Total amount of points\n",
    "#### Our football team has finished the championship and the match results are recorded in a collection of strings.\n",
    "#### Each match is represented by a string in the format \"x:y\", where x is our team's score and y is our opponents score.\n",
    "#### For example: [\"3:1\", \"2:2\", \"0:1\", ...]\n",
    "#### Points are awarded for each match as follows:\n",
    "#### if x > y: 3 points (win)\n",
    "#### if x < y: 0 points (loss)\n",
    "#### if x = y: 1 point (tie)\n",
    "#### We need to write a function that takes this collection and returns the number of points our team(x) got in the championship by the rules given above.\n",
    "#### Notes: our team always plays 10 matches in the championship\n",
    "#### 0 <= x <= 4 | 0 <= y <= 4"
   ]
  },
  {
   "cell_type": "code",
   "execution_count": 5,
   "id": "8570b9ea",
   "metadata": {},
   "outputs": [
    {
     "name": "stdout",
     "output_type": "stream",
     "text": [
      "Total Points earned by our team = 18\n"
     ]
    }
   ],
   "source": [
    "def calculate_points(match_results):\n",
    "#Returns the total number of points earned by our team in the championship\n",
    "    total_points = 0\n",
    "    for result in match_results:\n",
    "        x, y = result.split(\":\")\n",
    "        if int(x) > int(y):\n",
    "            total_points += 3\n",
    "        elif int(x) == int(y):\n",
    "            total_points += 1\n",
    "    return total_points\n",
    "\n",
    "results = [\"3:1\", \"2:2\", \"0:1\", \"4:0\", \"1:0\", \"2:1\", \"1:3\", \"2:2\", \"1:0\", \"0:0\"]\n",
    "points = calculate_points(results)\n",
    "print(\"Total Points earned by our team =\", points)"
   ]
  }
 ],
 "metadata": {
  "kernelspec": {
   "display_name": "Python 3 (ipykernel)",
   "language": "python",
   "name": "python3"
  },
  "language_info": {
   "codemirror_mode": {
    "name": "ipython",
    "version": 3
   },
   "file_extension": ".py",
   "mimetype": "text/x-python",
   "name": "python",
   "nbconvert_exporter": "python",
   "pygments_lexer": "ipython3",
   "version": "3.9.13"
  }
 },
 "nbformat": 4,
 "nbformat_minor": 5
}
